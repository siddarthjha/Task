{
 "cells": [
  {
   "cell_type": "code",
   "execution_count": 1,
   "id": "9338f0a1",
   "metadata": {},
   "outputs": [],
   "source": [
    "import warnings\n",
    "warnings.filterwarnings(\"ignore\")\n",
    "import pandas as pd\n",
    "import numpy as np\n",
    "pd.set_option('display.max_column', None)\n",
    "pd.set_option('display.max_rows', None)\n",
    "pd.set_option('display.max_seq_items', None)\n",
    "pd.set_option('display.max_colwidth', 500)\n",
    "pd.set_option('expand_frame_repr', True)\n",
    "pd.set_option('display.float_format', lambda x: '%.3f' % x)"
   ]
  },
  {
   "cell_type": "code",
   "execution_count": 2,
   "id": "e145a5ef",
   "metadata": {},
   "outputs": [],
   "source": [
    "# Reading the data\n",
    "\n",
    "df_train = pd.read_csv(\"/Users/siddarthjha/Downloads/ml_data/training.csv\", low_memory = False)\n",
    "df_test = pd.read_csv(\"/Users/siddarthjha/Downloads/ml_data/public_test_features.csv\", low_memory = False)\n",
    "df_meta_data = pd.read_excel(\"/Users/siddarthjha/Downloads/ml_data/metadata-dataset.xlsx\")"
   ]
  },
  {
   "cell_type": "code",
   "execution_count": 3,
   "id": "fa7c4df7",
   "metadata": {},
   "outputs": [
    {
     "data": {
      "text/plain": [
       "((36803, 228), (15774, 227))"
      ]
     },
     "execution_count": 3,
     "metadata": {},
     "output_type": "execute_result"
    }
   ],
   "source": [
    "# The shape of Train and Test\n",
    "df_train.shape, df_test.shape"
   ]
  },
  {
   "cell_type": "code",
   "execution_count": 4,
   "id": "cb24d8ce",
   "metadata": {},
   "outputs": [],
   "source": [
    "y_train = df_train['label']"
   ]
  },
  {
   "cell_type": "code",
   "execution_count": 5,
   "id": "58d9613e",
   "metadata": {},
   "outputs": [
    {
     "data": {
      "text/plain": [
       "(126, 100)"
      ]
     },
     "execution_count": 5,
     "metadata": {},
     "output_type": "execute_result"
    }
   ],
   "source": [
    "# Dropping ID column\n",
    "df_train.drop(['ID', 'label'], axis = 1, inplace = True)\n",
    "df_test.drop(['ID'], axis = 1, inplace = True)\n",
    "# calculating category & integer type columns \n",
    "cat_vars=list(df_train.select_dtypes(include=['object']).columns)\n",
    "num_vars=list(df_train.select_dtypes(exclude=['object']).columns)\n",
    "len(cat_vars), len(num_vars)"
   ]
  },
  {
   "cell_type": "code",
   "execution_count": 24,
   "id": "e7abfa90",
   "metadata": {},
   "outputs": [
    {
     "name": "stdout",
     "output_type": "stream",
     "text": [
      "Total length of cat - key_ASIN is 1338\n",
      "Total length of cat - key_Binding Code is 29\n",
      "Total length of cat - key_binding_description is 29\n",
      "Total length of cat - key_brand_code is 508\n",
      "Total length of cat - key_classification_code is 2\n",
      "Total length of cat - key_classification_description is 2\n",
      "Total length of cat - key_color_map is 63\n",
      "Total length of cat - key_cpsia_cautionary_statement is 3\n",
      "Total length of cat - key_creation_date is 972\n",
      "Total length of cat - key_currency_code is 1\n",
      "Total length of cat - key_customer_return_method is 3\n",
      "Total length of cat - key_customer_return_policy is 2\n",
      "Total length of cat - key_delivery_option is 2\n",
      "Total length of cat - key_esrb_age_rating is 3\n",
      "Total length of cat - key_esrb_descriptors is 1\n",
      "Total length of cat - key_fma_override is 1\n",
      "Total length of cat - key_Product Group Description is 47\n",
      "Total length of cat - key_has_ean is 2\n",
      "Total length of cat - key_has_online_play is 1\n",
      "Total length of cat - key_has_platform is 2\n",
      "Total length of cat - key_has_recommended_browse_nodes is 2\n",
      "Total length of cat - key_has_upc is 2\n",
      "Total length of cat - key_inner_package_type is 1\n",
      "Total length of cat - key_is_adult_product is 2\n",
      "Total length of cat - key_is_advantage is 1\n",
      "Total length of cat - key_is_certified_organic is 1\n",
      "Total length of cat - key_is_conveyable is 2\n",
      "Total length of cat - key_is_discontinued is 1\n",
      "Total length of cat - key_is_manufacture_on_demand is 1\n",
      "Total length of cat - key_is_phone_upgradeable is 1\n",
      "Total length of cat - key_Is Sortable is 2\n",
      "Total length of cat - key_is_super_saver_shipping_excl is 2\n",
      "Total length of cat - key_item_display_length_uom is 5\n",
      "Total length of cat - key_item_display_volume_uom is 3\n",
      "Total length of cat - key_item_display_weight_uom is 4\n",
      "Total length of cat - key_item_name is 1338\n",
      "Total length of cat - key_language_code is 1\n",
      "Total length of cat - key_manufacturer_name is 1096\n",
      "Total length of cat - key_manufacturer_vendor_code is 510\n",
      "Total length of cat - key_mfg_series_number is 11\n",
      "Total length of cat - key_model_number is 979\n",
      "Total length of cat - key_ordering_channel is 20\n",
      "Total length of cat - key_product_sample_received_day is 273\n",
      "Total length of cat - key_product_type is 146\n",
      "Total length of cat - key_program_member is 3\n",
      "Total length of cat - key_program_member_code is 3\n",
      "Total length of cat - key_publication_date is 56\n",
      "Total length of cat - key_publisher_code is 468\n",
      "Total length of cat - key_publisher_studio_label is 1096\n",
      "Total length of cat - key_recall_description is 2\n",
      "Total length of cat - key_target_gender is 3\n",
      "Total length of cat - key_variation_theme_description is 27\n",
      "Total length of cat - key_video_game_region_description is 1\n",
      "Total length of cat - key_wireless_provider is 4\n",
      "Total length of cat - key_wireless_provider_code is 4\n",
      "Total length of cat - key_pkg_dimensional_uom is 1\n",
      "Total length of cat - key_pkg_weight_uom is 1\n",
      "Total length of cat - key_release_date_embargo_level is 3\n",
      "Total length of cat - key_dw_creation_date is 790\n",
      "Total length of cat - key_dw_last_updated is 326\n",
      "Total length of cat - key_is_deleted is 2\n",
      "Total length of cat - key_last_updated is 334\n",
      "Total length of cat - key_external_testing_certification is 23\n",
      "Total length of cat - cand_ASIN is 36153\n",
      "Total length of cat - cand_Binding Code is 58\n",
      "Total length of cat - cand_binding_description is 57\n",
      "Total length of cat - cand_brand_code is 5153\n",
      "Total length of cat - cand_classification_code is 4\n",
      "Total length of cat - cand_classification_description is 4\n",
      "Total length of cat - cand_color_map is 631\n",
      "Total length of cat - cand_cpsia_cautionary_statement is 8\n",
      "Total length of cat - cand_creation_date is 3991\n",
      "Total length of cat - cand_currency_code is 1\n",
      "Total length of cat - cand_customer_return_method is 4\n",
      "Total length of cat - cand_customer_return_policy is 2\n",
      "Total length of cat - cand_delivery_option is 2\n",
      "Total length of cat - cand_esrb_age_rating is 6\n",
      "Total length of cat - cand_fma_override is 1\n",
      "Total length of cat - cand_Product Group Description is 60\n",
      "Total length of cat - cand_has_ean is 2\n",
      "Total length of cat - cand_has_online_play is 2\n",
      "Total length of cat - cand_has_platform is 2\n",
      "Total length of cat - cand_has_recommended_browse_nodes is 2\n",
      "Total length of cat - cand_has_upc is 2\n",
      "Total length of cat - cand_inner_package_type is 6\n",
      "Total length of cat - cand_is_adult_product is 2\n",
      "Total length of cat - cand_is_advantage is 2\n",
      "Total length of cat - cand_is_certified_organic is 1\n",
      "Total length of cat - cand_is_conveyable is 2\n",
      "Total length of cat - cand_is_discontinued is 1\n",
      "Total length of cat - cand_is_manufacture_on_demand is 1\n",
      "Total length of cat - cand_is_phone_upgradeable is 2\n",
      "Total length of cat - cand_Is Sortable is 2\n",
      "Total length of cat - cand_is_super_saver_shipping_excl is 2\n",
      "Total length of cat - cand_isbn is 67\n",
      "Total length of cat - cand_item_display_length_uom is 5\n",
      "Total length of cat - cand_item_display_volume_uom is 11\n",
      "Total length of cat - cand_item_display_weight_uom is 5\n",
      "Total length of cat - cand_item_name is 36018\n",
      "Total length of cat - cand_language_code is 1\n",
      "Total length of cat - cand_manufacturer_name is 17197\n",
      "Total length of cat - cand_manufacturer_vendor_code is 4389\n",
      "Total length of cat - cand_mfg_series_number is 70\n",
      "Total length of cat - cand_model_number is 21441\n",
      "Total length of cat - cand_ordering_channel is 22\n",
      "Total length of cat - cand_product_sample_received_day is 2452\n",
      "Total length of cat - cand_product_type is 278\n",
      "Total length of cat - cand_program_member is 7\n",
      "Total length of cat - cand_program_member_code is 7\n",
      "Total length of cat - cand_publication_date is 682\n",
      "Total length of cat - cand_publisher_code is 3738\n",
      "Total length of cat - cand_publisher_studio_label is 17197\n",
      "Total length of cat - cand_recall_description is 48\n",
      "Total length of cat - cand_target_gender is 3\n",
      "Total length of cat - cand_variation_theme_description is 78\n",
      "Total length of cat - cand_video_game_region_description is 2\n",
      "Total length of cat - cand_wireless_provider is 5\n",
      "Total length of cat - cand_wireless_provider_code is 6\n",
      "Total length of cat - cand_pkg_dimensional_uom is 1\n",
      "Total length of cat - cand_pkg_weight_uom is 1\n",
      "Total length of cat - cand_release_date_embargo_level is 4\n",
      "Total length of cat - cand_dw_creation_date is 2184\n",
      "Total length of cat - cand_dw_last_updated is 1227\n",
      "Total length of cat - cand_is_deleted is 2\n",
      "Total length of cat - cand_last_updated is 1248\n",
      "Total length of cat - cand_external_testing_certification is 221\n"
     ]
    },
    {
     "data": {
      "text/plain": [
       "80"
      ]
     },
     "execution_count": 24,
     "metadata": {},
     "output_type": "execute_result"
    }
   ],
   "source": [
    "for i in df_train.columns:\n",
    "    if i in cat_vars:\n",
    "        print(\"Total length of cat - {0} is {1}\".format(i, len(df_train[i].value_counts())))\n",
    "\n",
    "# From this selecting the categorical features which has only 20 categories\n",
    "\n",
    "drop_cat_vars = []\n",
    "for i in cat_vars:\n",
    "    if len(df_train[i].value_counts()) > 20:\n",
    "        drop_cat_vars.append(i)\n",
    "selected_cat_vars = list(set(cat_vars) - set(drop_cat_vars))\n",
    "len(selected_cat_vars)"
   ]
  },
  {
   "cell_type": "code",
   "execution_count": 34,
   "id": "9df9d66c",
   "metadata": {},
   "outputs": [],
   "source": [
    "df_train.fillna(0, inplace = True)\n",
    "df_test.fillna(0, inplace = True)"
   ]
  },
  {
   "cell_type": "code",
   "execution_count": 33,
   "id": "6008dcb5",
   "metadata": {},
   "outputs": [],
   "source": []
  },
  {
   "cell_type": "code",
   "execution_count": 20,
   "id": "9b889980",
   "metadata": {},
   "outputs": [
    {
     "name": "stdout",
     "output_type": "stream",
     "text": [
      "Total length of cat - key_ASIN is 1338\n",
      "Total length of cat - key_Binding Code is 29\n",
      "Total length of cat - key_binding_description is 29\n",
      "Total length of cat - key_brand_code is 508\n",
      "Total length of cat - key_classification_code is 2\n",
      "Total length of cat - key_classification_description is 2\n",
      "Total length of cat - key_color_map is 63\n",
      "Total length of cat - key_cpsia_cautionary_statement is 3\n",
      "Total length of cat - key_creation_date is 972\n",
      "Total length of cat - key_currency_code is 1\n",
      "Total length of cat - key_customer_return_method is 3\n",
      "Total length of cat - key_customer_return_policy is 2\n",
      "Total length of cat - key_delivery_option is 2\n",
      "Total length of cat - key_esrb_age_rating is 3\n",
      "Total length of cat - key_esrb_descriptors is 1\n",
      "Total length of cat - key_fma_override is 1\n",
      "Total length of cat - key_Product Group Description is 47\n",
      "Total length of cat - key_has_ean is 2\n",
      "Total length of cat - key_has_online_play is 1\n",
      "Total length of cat - key_has_platform is 2\n",
      "Total length of cat - key_has_recommended_browse_nodes is 2\n",
      "Total length of cat - key_has_upc is 2\n",
      "Total length of cat - key_inner_package_type is 1\n",
      "Total length of cat - key_is_adult_product is 2\n",
      "Total length of cat - key_is_advantage is 1\n",
      "Total length of cat - key_is_certified_organic is 1\n",
      "Total length of cat - key_is_conveyable is 2\n",
      "Total length of cat - key_is_discontinued is 1\n",
      "Total length of cat - key_is_manufacture_on_demand is 1\n",
      "Total length of cat - key_is_phone_upgradeable is 1\n",
      "Total length of cat - key_Is Sortable is 2\n",
      "Total length of cat - key_is_super_saver_shipping_excl is 2\n",
      "Total length of cat - key_item_display_length_uom is 5\n",
      "Total length of cat - key_item_display_volume_uom is 3\n",
      "Total length of cat - key_item_display_weight_uom is 4\n",
      "Total length of cat - key_item_name is 1338\n",
      "Total length of cat - key_language_code is 1\n",
      "Total length of cat - key_manufacturer_name is 1096\n",
      "Total length of cat - key_manufacturer_vendor_code is 510\n",
      "Total length of cat - key_mfg_series_number is 11\n",
      "Total length of cat - key_model_number is 979\n",
      "Total length of cat - key_ordering_channel is 20\n",
      "Total length of cat - key_product_sample_received_day is 273\n",
      "Total length of cat - key_product_type is 146\n",
      "Total length of cat - key_program_member is 3\n",
      "Total length of cat - key_program_member_code is 3\n",
      "Total length of cat - key_publication_date is 56\n",
      "Total length of cat - key_publisher_code is 468\n",
      "Total length of cat - key_publisher_studio_label is 1096\n",
      "Total length of cat - key_recall_description is 2\n",
      "Total length of cat - key_target_gender is 3\n",
      "Total length of cat - key_variation_theme_description is 27\n",
      "Total length of cat - key_video_game_region_description is 1\n",
      "Total length of cat - key_wireless_provider is 4\n",
      "Total length of cat - key_wireless_provider_code is 4\n",
      "Total length of cat - key_pkg_dimensional_uom is 1\n",
      "Total length of cat - key_pkg_weight_uom is 1\n",
      "Total length of cat - key_release_date_embargo_level is 3\n",
      "Total length of cat - key_dw_creation_date is 790\n",
      "Total length of cat - key_dw_last_updated is 326\n",
      "Total length of cat - key_is_deleted is 2\n",
      "Total length of cat - key_last_updated is 334\n",
      "Total length of cat - key_external_testing_certification is 23\n",
      "Total length of cat - cand_ASIN is 36153\n",
      "Total length of cat - cand_Binding Code is 58\n",
      "Total length of cat - cand_binding_description is 57\n",
      "Total length of cat - cand_brand_code is 5153\n",
      "Total length of cat - cand_classification_code is 4\n",
      "Total length of cat - cand_classification_description is 4\n",
      "Total length of cat - cand_color_map is 631\n",
      "Total length of cat - cand_cpsia_cautionary_statement is 8\n",
      "Total length of cat - cand_creation_date is 3991\n",
      "Total length of cat - cand_currency_code is 1\n",
      "Total length of cat - cand_customer_return_method is 4\n",
      "Total length of cat - cand_customer_return_policy is 2\n",
      "Total length of cat - cand_delivery_option is 2\n",
      "Total length of cat - cand_esrb_age_rating is 6\n",
      "Total length of cat - cand_fma_override is 1\n",
      "Total length of cat - cand_Product Group Description is 60\n",
      "Total length of cat - cand_has_ean is 2\n",
      "Total length of cat - cand_has_online_play is 2\n",
      "Total length of cat - cand_has_platform is 2\n",
      "Total length of cat - cand_has_recommended_browse_nodes is 2\n",
      "Total length of cat - cand_has_upc is 2\n",
      "Total length of cat - cand_inner_package_type is 6\n",
      "Total length of cat - cand_is_adult_product is 2\n",
      "Total length of cat - cand_is_advantage is 2\n",
      "Total length of cat - cand_is_certified_organic is 1\n",
      "Total length of cat - cand_is_conveyable is 2\n",
      "Total length of cat - cand_is_discontinued is 1\n",
      "Total length of cat - cand_is_manufacture_on_demand is 1\n",
      "Total length of cat - cand_is_phone_upgradeable is 2\n",
      "Total length of cat - cand_Is Sortable is 2\n",
      "Total length of cat - cand_is_super_saver_shipping_excl is 2\n",
      "Total length of cat - cand_isbn is 67\n",
      "Total length of cat - cand_item_display_length_uom is 5\n",
      "Total length of cat - cand_item_display_volume_uom is 11\n",
      "Total length of cat - cand_item_display_weight_uom is 5\n",
      "Total length of cat - cand_item_name is 36018\n",
      "Total length of cat - cand_language_code is 1\n",
      "Total length of cat - cand_manufacturer_name is 17197\n",
      "Total length of cat - cand_manufacturer_vendor_code is 4389\n",
      "Total length of cat - cand_mfg_series_number is 70\n",
      "Total length of cat - cand_model_number is 21441\n",
      "Total length of cat - cand_ordering_channel is 22\n",
      "Total length of cat - cand_product_sample_received_day is 2452\n",
      "Total length of cat - cand_product_type is 278\n",
      "Total length of cat - cand_program_member is 7\n",
      "Total length of cat - cand_program_member_code is 7\n",
      "Total length of cat - cand_publication_date is 682\n",
      "Total length of cat - cand_publisher_code is 3738\n",
      "Total length of cat - cand_publisher_studio_label is 17197\n",
      "Total length of cat - cand_recall_description is 48\n",
      "Total length of cat - cand_target_gender is 3\n",
      "Total length of cat - cand_variation_theme_description is 78\n",
      "Total length of cat - cand_video_game_region_description is 2\n",
      "Total length of cat - cand_wireless_provider is 5\n",
      "Total length of cat - cand_wireless_provider_code is 6\n",
      "Total length of cat - cand_pkg_dimensional_uom is 1\n",
      "Total length of cat - cand_pkg_weight_uom is 1\n",
      "Total length of cat - cand_release_date_embargo_level is 4\n",
      "Total length of cat - cand_dw_creation_date is 2184\n",
      "Total length of cat - cand_dw_last_updated is 1227\n",
      "Total length of cat - cand_is_deleted is 2\n",
      "Total length of cat - cand_last_updated is 1248\n",
      "Total length of cat - cand_external_testing_certification is 221\n"
     ]
    },
    {
     "data": {
      "text/plain": [
       "80"
      ]
     },
     "execution_count": 20,
     "metadata": {},
     "output_type": "execute_result"
    }
   ],
   "source": [
    "for i in df_train.columns:\n",
    "    if i in cat_vars:\n",
    "        print(\"Total length of cat - {0} is {1}\".format(i, len(df_train[i].value_counts())))\n",
    "\n",
    "# From this selecting the categorical features which has only 20 categories\n",
    "\n",
    "drop_cat_vars = []\n",
    "for i in cat_vars:\n",
    "    if len(df_train[i].value_counts()) > 20:\n",
    "        drop_cat_vars.append(i)\n",
    "selected_cat_vars = list(set(cat_vars) - set(drop_cat_vars))\n",
    "len(selected_cat_vars)"
   ]
  },
  {
   "cell_type": "code",
   "execution_count": 28,
   "id": "c9db08b2",
   "metadata": {},
   "outputs": [],
   "source": [
    "d = pd.get_dummies(data=df_train, columns=selected_cat_vars)\n",
    "dtest = pd.get_dummies(data=df_test, columns = selected_cat_vars)"
   ]
  },
  {
   "cell_type": "code",
   "execution_count": 29,
   "id": "77aa87a4",
   "metadata": {},
   "outputs": [
    {
     "data": {
      "text/plain": [
       "((36803, 435), (15774, 367))"
      ]
     },
     "execution_count": 29,
     "metadata": {},
     "output_type": "execute_result"
    }
   ],
   "source": [
    "d.shape, dtest.shape"
   ]
  },
  {
   "cell_type": "code",
   "execution_count": 30,
   "id": "e90b7391",
   "metadata": {},
   "outputs": [],
   "source": [
    "train, test = d.align(dtest, join='left', axis=1)\n"
   ]
  },
  {
   "cell_type": "code",
   "execution_count": 31,
   "id": "7c8e003e",
   "metadata": {},
   "outputs": [
    {
     "data": {
      "text/plain": [
       "((36803, 435), (15774, 435))"
      ]
     },
     "execution_count": 31,
     "metadata": {},
     "output_type": "execute_result"
    }
   ],
   "source": [
    "train.shape, test.shape"
   ]
  },
  {
   "cell_type": "code",
   "execution_count": null,
   "id": "a6ab2d2e",
   "metadata": {},
   "outputs": [],
   "source": []
  }
 ],
 "metadata": {
  "kernelspec": {
   "display_name": "Python 3 (ipykernel)",
   "language": "python",
   "name": "python3"
  },
  "language_info": {
   "codemirror_mode": {
    "name": "ipython",
    "version": 3
   },
   "file_extension": ".py",
   "mimetype": "text/x-python",
   "name": "python",
   "nbconvert_exporter": "python",
   "pygments_lexer": "ipython3",
   "version": "3.9.13"
  }
 },
 "nbformat": 4,
 "nbformat_minor": 5
}
